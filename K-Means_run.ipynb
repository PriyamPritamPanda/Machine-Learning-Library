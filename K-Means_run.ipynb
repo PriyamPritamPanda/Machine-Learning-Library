{
 "cells": [
  {
   "cell_type": "code",
   "execution_count": 1,
   "id": "5540de8f",
   "metadata": {},
   "outputs": [],
   "source": [
    "import numpy as np\n",
    "import pandas as pd\n",
    "import matplotlib\n",
    "%matplotlib inline\n",
    "from matplotlib import pyplot as plt\n",
    "from matplotlib import style"
   ]
  },
  {
   "cell_type": "markdown",
   "id": "31ff3df8",
   "metadata": {},
   "source": [
    "# Defining Functions"
   ]
  },
  {
   "cell_type": "code",
   "execution_count": 3,
   "id": "21b9539a",
   "metadata": {},
   "outputs": [],
   "source": [
    "def choose_centroids(X_train, k):\n",
    "    random_rows = np.random.choice(X_train.shape[0], size = k, replace = False)\n",
    "    return X_train[random_rows,:]"
   ]
  },
  {
   "cell_type": "code",
   "execution_count": 4,
   "id": "b9f154d7",
   "metadata": {},
   "outputs": [],
   "source": [
    "def dist(X_train,c_c):\n",
    "    m = X_train.shape[0]\n",
    "    d = []\n",
    "    for i in range(m):\n",
    "        dist = np.sqrt(np.sum((c_c - X_train[i])**2, axis=1))\n",
    "        d.append(dist)\n",
    "    return np.array(d)"
   ]
  },
  {
   "cell_type": "code",
   "execution_count": 5,
   "id": "6bb69539",
   "metadata": {},
   "outputs": [],
   "source": [
    "def assign(X_train, c_c):\n",
    "    d = dist(X_train,c_c)\n",
    "    assigned = np.argmin(d, axis=1)\n",
    "    return assigned"
   ]
  },
  {
   "cell_type": "code",
   "execution_count": 6,
   "id": "0e5f01f5",
   "metadata": {},
   "outputs": [],
   "source": [
    "def mean_shift_c(assigned,X_train):\n",
    "    new_c = []\n",
    "    for k in range(np.unique(assigned).shape[0]):\n",
    "        indices = np.where(assigned==k)[0]\n",
    "        mean_pos = np.mean(X_train[indices],axis=0)\n",
    "        new_c.append(mean_pos)\n",
    "    return new_c"
   ]
  },
  {
   "cell_type": "code",
   "execution_count": 7,
   "id": "0851c753",
   "metadata": {},
   "outputs": [],
   "source": [
    "def kmeans(X_train,k,max_iters=100):\n",
    "    c_c = choose_centroids(X_train,k)\n",
    "    c = [c_c]\n",
    "    for i in range(max_iters):\n",
    "        assigned = assign(X_train, c_c)\n",
    "        c_c = mean_shift_c(assigned,X_train)\n",
    "        c.append(c_c)\n",
    "        if (np.array(c[-1])==np.array(c[-2])).any():\n",
    "            print(f\"Number of iterations taken for the cluster centroids to reach the mean centres of {k} clusters:{i}\")\n",
    "            break\n",
    "    return c_c,c"
   ]
  },
  {
   "cell_type": "code",
   "execution_count": 8,
   "id": "9cf336be",
   "metadata": {},
   "outputs": [],
   "source": [
    "def plot(X_train,final_assign):\n",
    "    style.use('ggplot')\n",
    "    for k in range(np.unique(final_assign).shape[0]):\n",
    "        indices = np.where(final_assign==k)[0]\n",
    "        X = X_train[indices]\n",
    "        plt.scatter(X[:,0],X[:,1])"
   ]
  },
  {
   "cell_type": "code",
   "execution_count": 9,
   "id": "593a0412",
   "metadata": {},
   "outputs": [],
   "source": [
    "def wcss(X_train,final_c,final_assign):\n",
    "    wcss = 0\n",
    "    for k in range(len(final_c)):\n",
    "        indices = np.where(final_assign==k)[0]\n",
    "        X = X_train[indices]\n",
    "        wcss += np.sum((X - final_c[k])**2)\n",
    "    return wcss"
   ]
  },
  {
   "cell_type": "code",
   "execution_count": 10,
   "id": "c609c7a1",
   "metadata": {},
   "outputs": [],
   "source": [
    "def elbow(X_train,max_k):\n",
    "    w = []\n",
    "    k = []\n",
    "    for i in range(1,max_k+1):\n",
    "        final_c,c = kmeans(X_train,i)\n",
    "        final_assign = assign(X_train,final_c)\n",
    "        w.append(wcss(X_train,final_c,final_assign))\n",
    "        k.append(i)\n",
    "    style.use('default')\n",
    "    plt.plot(k,w)\n",
    "    plt.xlabel('K')\n",
    "    plt.ylabel('WCSS Cost')\n",
    "    plt.title('Elbow Method')"
   ]
  },
  {
   "cell_type": "markdown",
   "id": "d83d1c89",
   "metadata": {},
   "source": [
    "# Loading Data  "
   ]
  },
  {
   "cell_type": "code",
   "execution_count": 11,
   "id": "d195d35c",
   "metadata": {},
   "outputs": [
    {
     "data": {
      "text/plain": [
       "(178, 13)"
      ]
     },
     "execution_count": 11,
     "metadata": {},
     "output_type": "execute_result"
    }
   ],
   "source": [
    "X_train = pd.read_csv('Kmean_dataset.csv').to_numpy()\n",
    "X_train.shape"
   ]
  },
  {
   "cell_type": "markdown",
   "id": "4790e85f",
   "metadata": {},
   "source": [
    "# Deciding the appropriate value of K using Elbow Method"
   ]
  },
  {
   "cell_type": "code",
   "execution_count": 12,
   "id": "4b29a966",
   "metadata": {},
   "outputs": [
    {
     "name": "stdout",
     "output_type": "stream",
     "text": [
      "Number of iterations taken for the cluster centroids to reach the mean centres of 1 clusters:1\n",
      "Number of iterations taken for the cluster centroids to reach the mean centres of 2 clusters:8\n",
      "Number of iterations taken for the cluster centroids to reach the mean centres of 3 clusters:2\n",
      "Number of iterations taken for the cluster centroids to reach the mean centres of 4 clusters:3\n",
      "Number of iterations taken for the cluster centroids to reach the mean centres of 5 clusters:3\n",
      "Number of iterations taken for the cluster centroids to reach the mean centres of 6 clusters:2\n",
      "Number of iterations taken for the cluster centroids to reach the mean centres of 7 clusters:1\n"
     ]
    },
    {
     "data": {
      "image/png": "[encoded data removed]",
      "text/plain": [
       "<Figure size 640x480 with 1 Axes>"
      ]
     },
     "metadata": {},
     "output_type": "display_data"
    }
   ],
   "source": [
    "elbow(X_train,7)"
   ]
  },
  {
   "cell_type": "markdown",
   "id": "c450a842",
   "metadata": {},
   "source": [
    "# Running K-Means"
   ]
  },
  {
   "cell_type": "code",
   "execution_count": 13,
   "id": "759705e1",
   "metadata": {
    "scrolled": true
   },
   "outputs": [
    {
     "name": "stdout",
     "output_type": "stream",
     "text": [
      "Number of iterations taken for the cluster centroids to reach the mean centres of 2 clusters:7\n",
      "Final coordinates of the cluster centroids:\n",
      "[array([1.27065574e+01, 2.53360656e+00, 2.34024590e+00, 2.04237705e+01,\n",
      "       9.66885246e+01, 2.06770492e+00, 1.64852459e+00, 3.93524590e-01,\n",
      "       1.45663934e+00, 4.82385245e+00, 9.10737705e-01, 2.41155738e+00,\n",
      "       5.63500000e+02]), array([1.36412500e+01, 1.90660714e+00, 2.42375000e+00, 1.74714286e+01,\n",
      "       1.06392857e+02, 2.79053571e+00, 2.85875000e+00, 2.92857143e-01,\n",
      "       1.88339286e+00, 5.56839286e+00, 1.05921429e+00, 3.04767857e+00,\n",
      "       1.14642857e+03])]\n"
     ]
    }
   ],
   "source": [
    "final_c,c = kmeans(X_train,2,100)\n",
    "print(f\"Final coordinates of the cluster centroids:\\n{final_c}\")"
   ]
  },
  {
   "cell_type": "code",
   "execution_count": 14,
   "id": "9781ee1a",
   "metadata": {
    "scrolled": true
   },
   "outputs": [
    {
     "data": {
      "text/plain": [
       "[array([[1.242e+01, 4.430e+00, 2.730e+00, 2.650e+01, 1.020e+02, 2.200e+00,\n",
       "         2.130e+00, 4.300e-01, 1.710e+00, 2.080e+00, 9.200e-01, 3.120e+00,\n",
       "         3.650e+02],\n",
       "        [1.307e+01, 1.500e+00, 2.100e+00, 1.550e+01, 9.800e+01, 2.400e+00,\n",
       "         2.640e+00, 2.800e-01, 1.370e+00, 3.700e+00, 1.180e+00, 2.690e+00,\n",
       "         1.020e+03]]),\n",
       " [array([1.25938776e+01, 2.45102041e+00, 2.32785714e+00, 2.06948980e+01,\n",
       "         9.35612245e+01, 2.05836735e+00, 1.65071429e+00, 3.96020408e-01,\n",
       "         1.42642857e+00, 4.60918366e+00, 9.14387755e-01, 2.39826531e+00,\n",
       "         5.14132653e+02]),\n",
       "  array([1.3498875e+01, 2.1958750e+00, 2.4138750e+00, 1.8025000e+01,\n",
       "         1.0731250e+02, 2.5851250e+00, 2.4930000e+00, 3.2000000e-01,\n",
       "         1.7923750e+00, 5.6080000e+00, 1.0102000e+00, 2.8731250e+00,\n",
       "         1.0320250e+03])],\n",
       " [array([1.26498230e+01, 2.52920354e+00, 2.33097345e+00, 2.05159292e+01,\n",
       "         9.54513274e+01, 2.05407080e+00, 1.62761062e+00, 3.96017699e-01,\n",
       "         1.44495575e+00, 4.73831858e+00, 9.14778761e-01, 2.38415929e+00,\n",
       "         5.43070796e+02]),\n",
       "  array([1.36104615e+01, 2.00107692e+00, 2.42830769e+00, 1.77200000e+01,\n",
       "         1.07200000e+02, 2.71415385e+00, 2.72753846e+00, 3.02461538e-01,\n",
       "         1.84461538e+00, 5.61400000e+00, 1.03163077e+00, 3.00723077e+00,\n",
       "         1.10123077e+03])],\n",
       " [array([1.26759483e+01, 2.51465517e+00, 2.33051724e+00, 2.04353448e+01,\n",
       "         9.58448276e+01, 2.06603448e+00, 1.64551724e+00, 3.93965517e-01,\n",
       "         1.45137931e+00, 4.76560344e+00, 9.14741379e-01, 2.40491379e+00,\n",
       "         5.49327586e+02]),\n",
       "  array([1.36080645e+01, 2.00274194e+00, 2.43387097e+00, 1.77354839e+01,\n",
       "         1.07032258e+02, 2.72370968e+00, 2.74725806e+00, 3.01774194e-01,\n",
       "         1.85193548e+00, 5.60532258e+00, 1.03735484e+00, 2.99854839e+00,\n",
       "         1.11653226e+03])],\n",
       " [array([1.26832203e+01, 2.51966102e+00, 2.33652542e+00, 2.04788136e+01,\n",
       "         9.61355932e+01, 2.06601695e+00, 1.64500000e+00, 3.94915254e-01,\n",
       "         1.45406780e+00, 4.74906779e+00, 9.13898305e-01, 2.40550847e+00,\n",
       "         5.54084746e+02]),\n",
       "  array([1.36248333e+01, 1.97583333e+00, 2.42550000e+00, 1.75600000e+01,\n",
       "         1.06833333e+02, 2.74566667e+00, 2.78500000e+00, 2.96833333e-01,\n",
       "         1.86000000e+00, 5.66583333e+00, 1.04310000e+00, 3.01716667e+00,\n",
       "         1.12608333e+03])],\n",
       " [array([1.26881513e+01, 2.53445378e+00, 2.33588235e+00, 2.04747899e+01,\n",
       "         9.63361345e+01, 2.06201681e+00, 1.63697479e+00, 3.95210084e-01,\n",
       "         1.45319328e+00, 4.79487394e+00, 9.11176471e-01, 2.39840336e+00,\n",
       "         5.56445378e+02]),\n",
       "  array([1.36308475e+01, 1.93677966e+00, 2.42830508e+00, 1.75186441e+01,\n",
       "         1.06610169e+02, 2.76525424e+00, 2.82050847e+00, 2.94576271e-01,\n",
       "         1.86864407e+00, 5.58898305e+00, 1.05077966e+00, 3.04186441e+00,\n",
       "         1.13101695e+03])],\n",
       " [array([1.26921667e+01, 2.53491667e+00, 2.33616667e+00, 2.04708333e+01,\n",
       "         9.65333333e+01, 2.05858333e+00, 1.62900000e+00, 3.96333333e-01,\n",
       "         1.45325000e+00, 4.83241666e+00, 9.08583333e-01, 2.39191667e+00,\n",
       "         5.58808333e+02]),\n",
       "  array([1.36387931e+01, 1.92551724e+00, 2.42931034e+00, 1.74758621e+01,\n",
       "         1.06379310e+02, 2.78448276e+00, 2.85741379e+00, 2.90517241e-01,\n",
       "         1.87568966e+00, 5.52500000e+00, 1.05855172e+00, 3.06637931e+00,\n",
       "         1.13603448e+03])],\n",
       " [array([1.27065574e+01, 2.53360656e+00, 2.34024590e+00, 2.04237705e+01,\n",
       "         9.66885246e+01, 2.06770492e+00, 1.64852459e+00, 3.93524590e-01,\n",
       "         1.45663934e+00, 4.82385245e+00, 9.10737705e-01, 2.41155738e+00,\n",
       "         5.63500000e+02]),\n",
       "  array([1.36412500e+01, 1.90660714e+00, 2.42375000e+00, 1.74714286e+01,\n",
       "         1.06392857e+02, 2.79053571e+00, 2.85875000e+00, 2.92857143e-01,\n",
       "         1.88339286e+00, 5.56839286e+00, 1.05921429e+00, 3.04767857e+00,\n",
       "         1.14642857e+03])],\n",
       " [array([1.27065574e+01, 2.53360656e+00, 2.34024590e+00, 2.04237705e+01,\n",
       "         9.66885246e+01, 2.06770492e+00, 1.64852459e+00, 3.93524590e-01,\n",
       "         1.45663934e+00, 4.82385245e+00, 9.10737705e-01, 2.41155738e+00,\n",
       "         5.63500000e+02]),\n",
       "  array([1.36412500e+01, 1.90660714e+00, 2.42375000e+00, 1.74714286e+01,\n",
       "         1.06392857e+02, 2.79053571e+00, 2.85875000e+00, 2.92857143e-01,\n",
       "         1.88339286e+00, 5.56839286e+00, 1.05921429e+00, 3.04767857e+00,\n",
       "         1.14642857e+03])]]"
      ]
     },
     "execution_count": 14,
     "metadata": {},
     "output_type": "execute_result"
    }
   ],
   "source": [
    "c"
   ]
  },
  {
   "cell_type": "code",
   "execution_count": 15,
   "id": "a2bdd2c4",
   "metadata": {},
   "outputs": [
    {
     "data": {
      "text/html": [
       "<div>\n",
       "<style scoped>\n",
       "    .dataframe tbody tr th:only-of-type {\n",
       "        vertical-align: middle;\n",
       "    }\n",
       "\n",
       "    .dataframe tbody tr th {\n",
       "        vertical-align: top;\n",
       "    }\n",
       "\n",
       "    .dataframe thead th {\n",
       "        text-align: right;\n",
       "    }\n",
       "</style>\n",
       "<table border=\"1\" class=\"dataframe\">\n",
       "  <thead>\n",
       "    <tr style=\"text-align: right;\">\n",
       "      <th></th>\n",
       "      <th>Example No.</th>\n",
       "      <th>Assigned Cluster Grp</th>\n",
       "    </tr>\n",
       "  </thead>\n",
       "  <tbody>\n",
       "    <tr>\n",
       "      <th>0</th>\n",
       "      <td>1</td>\n",
       "      <td>1</td>\n",
       "    </tr>\n",
       "    <tr>\n",
       "      <th>1</th>\n",
       "      <td>2</td>\n",
       "      <td>1</td>\n",
       "    </tr>\n",
       "    <tr>\n",
       "      <th>2</th>\n",
       "      <td>3</td>\n",
       "      <td>1</td>\n",
       "    </tr>\n",
       "    <tr>\n",
       "      <th>3</th>\n",
       "      <td>4</td>\n",
       "      <td>1</td>\n",
       "    </tr>\n",
       "    <tr>\n",
       "      <th>4</th>\n",
       "      <td>5</td>\n",
       "      <td>0</td>\n",
       "    </tr>\n",
       "    <tr>\n",
       "      <th>...</th>\n",
       "      <td>...</td>\n",
       "      <td>...</td>\n",
       "    </tr>\n",
       "    <tr>\n",
       "      <th>173</th>\n",
       "      <td>174</td>\n",
       "      <td>0</td>\n",
       "    </tr>\n",
       "    <tr>\n",
       "      <th>174</th>\n",
       "      <td>175</td>\n",
       "      <td>0</td>\n",
       "    </tr>\n",
       "    <tr>\n",
       "      <th>175</th>\n",
       "      <td>176</td>\n",
       "      <td>0</td>\n",
       "    </tr>\n",
       "    <tr>\n",
       "      <th>176</th>\n",
       "      <td>177</td>\n",
       "      <td>0</td>\n",
       "    </tr>\n",
       "    <tr>\n",
       "      <th>177</th>\n",
       "      <td>178</td>\n",
       "      <td>0</td>\n",
       "    </tr>\n",
       "  </tbody>\n",
       "</table>\n",
       "<p>178 rows × 2 columns</p>\n",
       "</div>"
      ],
      "text/plain": [
       "     Example No.  Assigned Cluster Grp\n",
       "0              1                     1\n",
       "1              2                     1\n",
       "2              3                     1\n",
       "3              4                     1\n",
       "4              5                     0\n",
       "..           ...                   ...\n",
       "173          174                     0\n",
       "174          175                     0\n",
       "175          176                     0\n",
       "176          177                     0\n",
       "177          178                     0\n",
       "\n",
       "[178 rows x 2 columns]"
      ]
     },
     "execution_count": 15,
     "metadata": {},
     "output_type": "execute_result"
    }
   ],
   "source": [
    "final_assign = assign(X_train,final_c)\n",
    "ex = np.array(list(range(1,final_assign.shape[0]+1)))\n",
    "df_t = pd.DataFrame({'Example No.':ex, 'Assigned Cluster Grp':final_assign})\n",
    "df_t"
   ]
  },
  {
   "cell_type": "code",
   "execution_count": 16,
   "id": "9660b8d7",
   "metadata": {},
   "outputs": [
    {
     "data": {
      "image/png": "[encoded data removed]",
      "text/plain": [
       "<Figure size 640x480 with 1 Axes>"
      ]
     },
     "metadata": {},
     "output_type": "display_data"
    }
   ],
   "source": [
    "plot(X_train,final_assign)"
   ]
  },
  {
   "cell_type": "code",
   "execution_count": 17,
   "id": "a155725d",
   "metadata": {},
   "outputs": [],
   "source": [
    "df_t.to_csv('K-means_pred.csv')"
   ]
  },
  {
   "cell_type": "code",
   "execution_count": null,
   "id": "57cbdb3d",
   "metadata": {},
   "outputs": [],
   "source": []
  }
 ],
 "metadata": {
  "kernelspec": {
   "display_name": "Python 3 (ipykernel)",
   "language": "python",
   "name": "python3"
  },
  "language_info": {
   "codemirror_mode": {
    "name": "ipython",
    "version": 3
   },
   "file_extension": ".py",
   "mimetype": "text/x-python",
   "name": "python",
   "nbconvert_exporter": "python",
   "pygments_lexer": "ipython3",
   "version": "3.11.5"
  }
 },
 "nbformat": 4,
 "nbformat_minor": 5
}
