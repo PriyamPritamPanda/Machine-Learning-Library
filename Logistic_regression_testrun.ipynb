{
 "cells": [
  {
   "cell_type": "code",
   "execution_count": 1,
   "id": "572d7e34",
   "metadata": {},
   "outputs": [],
   "source": [
    "import numpy as np\n",
    "import pandas as pd\n",
    "import matplotlib\n",
    "%matplotlib inline\n",
    "from matplotlib import pyplot as plt\n",
    "from matplotlib import style"
   ]
  },
  {
   "cell_type": "markdown",
   "id": "95643642",
   "metadata": {},
   "source": [
    "# Defining Functions"
   ]
  },
  {
   "cell_type": "code",
   "execution_count": 2,
   "id": "0395f0c2",
   "metadata": {},
   "outputs": [],
   "source": [
    "def softmax(X):\n",
    "    exp_X = np.exp(X)\n",
    "    return exp_X/np.sum(exp_X, axis=1, keepdims=True)"
   ]
  },
  {
   "cell_type": "code",
   "execution_count": 3,
   "id": "5fb4c348",
   "metadata": {},
   "outputs": [],
   "source": [
    "def normalise(X):\n",
    "    max_X = np.max(X)\n",
    "    X_norm = X/max_X\n",
    "    \n",
    "    return X_norm"
   ]
  },
  {
   "cell_type": "code",
   "execution_count": 4,
   "id": "a060f2ae",
   "metadata": {},
   "outputs": [],
   "source": [
    "def one_hot(y,num_classes):\n",
    "    m, = y.shape\n",
    "    y_hot = np.zeros([m,num_classes])\n",
    "    for i in range(m):\n",
    "        y_hot[i, y[i]] = 1\n",
    "        \n",
    "    return y_hot"
   ]
  },
  {
   "cell_type": "code",
   "execution_count": 5,
   "id": "1a6e930d",
   "metadata": {},
   "outputs": [],
   "source": [
    "def initialise_parameters(X, y):\n",
    "    m,n = X.shape\n",
    "    k = np.unique(y).shape[0]\n",
    "    w = np.zeros((k,n))\n",
    "    b = np.zeros((1,k))\n",
    "    return w, b"
   ]
  },
  {
   "cell_type": "code",
   "execution_count": 6,
   "id": "8261d80f",
   "metadata": {},
   "outputs": [],
   "source": [
    "def compute_cost(X,y,w,b,one_hot):\n",
    "    m,n = X.shape\n",
    "    z = X@w.T + b\n",
    "    y_hat = softmax(z)\n",
    "    log_y = np.log(y_hat)\n",
    "    y_hot = one_hot(y,b.shape[1])\n",
    "    d = 1e-8\n",
    "    cost = -(np.sum(y_hot*(log_y + d)))/m\n",
    "    return cost"
   ]
  },
  {
   "cell_type": "code",
   "execution_count": 7,
   "id": "ae16967e",
   "metadata": {},
   "outputs": [],
   "source": [
    "def gradient(X,y,w,b,one_hot):\n",
    "    m,n = X.shape\n",
    "    k = b.shape[1]\n",
    "    z = X@w.T + b\n",
    "    y_hat = softmax(z)\n",
    "    y_hot = one_hot(y,k)\n",
    "    \n",
    "    dj_dw = (X.T)@(y_hat - y_hot)\n",
    "    dj_db = np.sum((y_hat - y_hot), axis=0, keepdims=True)\n",
    "    \n",
    "    return np.transpose(dj_dw),dj_db"
   ]
  },
  {
   "cell_type": "code",
   "execution_count": 8,
   "id": "2a3c65bc",
   "metadata": {},
   "outputs": [],
   "source": [
    "def predict(X,w,b):\n",
    "    m = X.shape[0]\n",
    "    k = w.shape[0]\n",
    "    z = X@w.T + b\n",
    "    prob = softmax(z)\n",
    "    pred = np.argmax(prob, axis=1)\n",
    "    \n",
    "    return pred"
   ]
  },
  {
   "cell_type": "code",
   "execution_count": 9,
   "id": "f1060669",
   "metadata": {},
   "outputs": [],
   "source": [
    "def accuracy(X,y,w,b):\n",
    "    pred = predict(X,w,b)\n",
    "    subs = pred - y\n",
    "    correct = list(subs).count(0)\n",
    "    accuracy = (correct/len(pred))\n",
    "    return accuracy"
   ]
  },
  {
   "cell_type": "code",
   "execution_count": 10,
   "id": "fc0e8e53",
   "metadata": {},
   "outputs": [],
   "source": [
    "def gradient_descent(X,y,X_test,y_test,w_in,b_in,one_hot,compute_cost,gradient,alpha,epochs):\n",
    "    \n",
    "    J = []\n",
    "    w = w_in\n",
    "    b = b_in\n",
    "    for i in range(epochs):\n",
    "        dj_dw,dj_db = gradient(X,y,w,b,one_hot)\n",
    "        \n",
    "        w = w - alpha*dj_dw\n",
    "        b = b - alpha*dj_db\n",
    "        \n",
    "        if i<100000:\n",
    "            J.append(compute_cost(X,y,w,b,one_hot))\n",
    "        \n",
    "        if i%np.ceil(epochs/10)==0:\n",
    "            print(f\"\\nEpoch {i:5d}: Cost {J[-1]:5.10f} \\t Train_acc: {accuracy(X,y,w,b)*100:6.2f}% \\t Test_acc: {accuracy(X_test,y_test,w,b)*100:6.2f}%\")\n",
    "        \n",
    "        if i%np.ceil((epochs/10)/25)==0:\n",
    "            print('==', end='')\n",
    "    \n",
    "    print(f\"\\nFinal Cost: {J[-1]:5.10f} \\t Train_acc: {accuracy(X,y,w,b)*100:6.2f}% \\t Test_acc: {accuracy(X_test,y_test,w,b)*100:6.2f}%\")    \n",
    "    print(f\"\\nb,w found by gradient descent:\\nb_final =\\n {b}\\nw_final =\\n {w}\")\n",
    "    \n",
    "    return w,b,J"
   ]
  },
  {
   "cell_type": "code",
   "execution_count": 11,
   "id": "24fa5aa0",
   "metadata": {},
   "outputs": [],
   "source": [
    "def cost_vs_epochs(J,epochs):\n",
    "    style.use('ggplot')\n",
    "    e = np.array([])\n",
    "    for i in range(1,epochs+1):\n",
    "        e = np.append(e,i)\n",
    "    plt.plot(e,J)\n",
    "    plt.title('Cost vs Epochs')\n",
    "    plt.xlabel('No. of Epochs')\n",
    "    plt.ylabel('Cost')"
   ]
  },
  {
   "cell_type": "code",
   "execution_count": 12,
   "id": "7905e4f9",
   "metadata": {},
   "outputs": [],
   "source": [
    "def cf_matrix(X,y,w,b):\n",
    "    pred = predict(X,w,b)\n",
    "    k = np.unique(y)\n",
    "    c = []\n",
    "    for i in k:\n",
    "        indices = np.where(y==i)\n",
    "        data = pred[indices]\n",
    "        count = []\n",
    "        for j in k:\n",
    "            count.append(list(data).count(j))\n",
    "        c.append(count)\n",
    "    return pd.DataFrame(c)"
   ]
  },
  {
   "cell_type": "code",
   "execution_count": 13,
   "id": "f9f5b218",
   "metadata": {},
   "outputs": [],
   "source": [
    "def f1_score(X,y,w,b):\n",
    "    c = cf_matrix(X,y,w,b).to_numpy()\n",
    "    m = c.shape[0]\n",
    "    a = np.diagonal(c)\n",
    "    total_c = np.sum(c, axis=1)\n",
    "    total_r = np.sum(c, axis=0)\n",
    "    precision = a/total_r\n",
    "    recall = a/total_c\n",
    "    f1 = np.sum(2*((precision*recall)/(precision + recall)))/m\n",
    "    return f1"
   ]
  },
  {
   "cell_type": "markdown",
   "id": "b4507aeb",
   "metadata": {},
   "source": [
    "# Adding Training, Cross-Validation and Test Data Sets"
   ]
  },
  {
   "cell_type": "code",
   "execution_count": 14,
   "id": "cca2539c",
   "metadata": {},
   "outputs": [],
   "source": [
    "df = pd.read_csv('Classification_train.csv')\n",
    "df_test = pd.read_csv('Classification_test.csv')"
   ]
  },
  {
   "cell_type": "code",
   "execution_count": 15,
   "id": "0e5de2bf",
   "metadata": {},
   "outputs": [],
   "source": [
    "df_train = df.head(25000)\n",
    "df_cv = df.tail(5000)\n",
    "X_train = df_train.drop('label',axis=1).to_numpy()\n",
    "y_train = df_train.iloc[:,0].to_numpy()\n",
    "X_cv = df_cv.drop('label',axis=1).to_numpy()\n",
    "y_cv = df_cv.iloc[:,0].to_numpy()\n",
    "X_train_norm = normalise(X_train)\n",
    "X_cv_norm = normalise(X_cv)\n",
    "\n",
    "X_test = df_test.drop('ID', axis=1).to_numpy()\n",
    "X_test_norm = normalise(X_test)"
   ]
  },
  {
   "cell_type": "code",
   "execution_count": 19,
   "id": "627e9e0d",
   "metadata": {},
   "outputs": [],
   "source": [
    "w, b = initialise_parameters(X_train,y_train)"
   ]
  },
  {
   "cell_type": "markdown",
   "id": "67fb2933",
   "metadata": {},
   "source": [
    "# Running Logistic Regression Model"
   ]
  },
  {
   "cell_type": "code",
   "execution_count": 20,
   "id": "eef9ee66",
   "metadata": {},
   "outputs": [
    {
     "name": "stdout",
     "output_type": "stream",
     "text": [
      "\n",
      "Epoch     0: Cost 1.4764299395 \t Train_acc:  80.77% \t Test_acc:  80.76%\n",
      "==================================================\n",
      "Epoch    50: Cost 0.2309695143 \t Train_acc:  94.67% \t Test_acc:  94.56%\n",
      "==================================================\n",
      "Epoch   100: Cost 0.1843411528 \t Train_acc:  95.62% \t Test_acc:  95.38%\n",
      "==================================================\n",
      "Epoch   150: Cost 0.1632021866 \t Train_acc:  96.04% \t Test_acc:  95.68%\n",
      "==================================================\n",
      "Epoch   200: Cost 0.1502125832 \t Train_acc:  96.30% \t Test_acc:  96.02%\n",
      "==================================================\n",
      "Epoch   250: Cost 0.1410642744 \t Train_acc:  96.50% \t Test_acc:  96.12%\n",
      "==================================================\n",
      "Epoch   300: Cost 0.1341014394 \t Train_acc:  96.64% \t Test_acc:  96.20%\n",
      "==================================================\n",
      "Epoch   350: Cost 0.1285309894 \t Train_acc:  96.73% \t Test_acc:  96.28%\n",
      "==================================================\n",
      "Epoch   400: Cost 0.1239174215 \t Train_acc:  96.81% \t Test_acc:  96.26%\n",
      "==================================================\n",
      "Epoch   450: Cost 0.1199980762 \t Train_acc:  96.88% \t Test_acc:  96.28%\n",
      "==================================================\n",
      "Final Cost: 0.1166668773 \t Train_acc:  96.95% \t Test_acc:  96.36%\n",
      "\n",
      "b,w found by gradient descent:\n",
      "b_final =\n",
      " [[-0.55764536  0.62301374 -0.04920092 -0.33726455 -0.17755498 -0.85649245\n",
      "   0.77276695  0.06533069  0.11167728  0.40536959]]\n",
      "w_final =\n",
      " [[0. 0. 0. ... 0. 0. 0.]\n",
      " [0. 0. 0. ... 0. 0. 0.]\n",
      " [0. 0. 0. ... 0. 0. 0.]\n",
      " ...\n",
      " [0. 0. 0. ... 0. 0. 0.]\n",
      " [0. 0. 0. ... 0. 0. 0.]\n",
      " [0. 0. 0. ... 0. 0. 0.]]\n"
     ]
    }
   ],
   "source": [
    "alpha = 5e-5\n",
    "epochs = 500\n",
    "wf,bf,J = gradient_descent(X_train_norm,y_train,X_cv_norm,y_cv,w,b,one_hot,compute_cost,gradient,alpha,epochs)"
   ]
  },
  {
   "cell_type": "code",
   "execution_count": 21,
   "id": "75bd1d84",
   "metadata": {},
   "outputs": [
    {
     "data": {
      "image/png": "[encoded data removed]",
      "text/plain": [
       "<Figure size 640x480 with 1 Axes>"
      ]
     },
     "metadata": {},
     "output_type": "display_data"
    }
   ],
   "source": [
    "cost_vs_epochs(J,epochs)"
   ]
  },
  {
   "cell_type": "code",
   "execution_count": 22,
   "id": "48ac6a25",
   "metadata": {},
   "outputs": [
    {
     "name": "stdout",
     "output_type": "stream",
     "text": [
      "Total no. of cross validation examples misclassified by the model: 182.0\n"
     ]
    }
   ],
   "source": [
    "misclassifications = np.ceil((1 - accuracy(X_cv_norm,y_cv,wf,bf))*X_cv_norm.shape[0])\n",
    "print(\"Total no. of cross validation examples misclassified by the model:\",misclassifications)"
   ]
  },
  {
   "cell_type": "markdown",
   "id": "a1ab5231",
   "metadata": {},
   "source": [
    "# Confusion Matrix and F1 Score on CV Data Set"
   ]
  },
  {
   "cell_type": "code",
   "execution_count": 23,
   "id": "cec11767",
   "metadata": {},
   "outputs": [
    {
     "data": {
      "text/html": [
       "<div>\n",
       "<style scoped>\n",
       "    .dataframe tbody tr th:only-of-type {\n",
       "        vertical-align: middle;\n",
       "    }\n",
       "\n",
       "    .dataframe tbody tr th {\n",
       "        vertical-align: top;\n",
       "    }\n",
       "\n",
       "    .dataframe thead th {\n",
       "        text-align: right;\n",
       "    }\n",
       "</style>\n",
       "<table border=\"1\" class=\"dataframe\">\n",
       "  <thead>\n",
       "    <tr style=\"text-align: right;\">\n",
       "      <th></th>\n",
       "      <th>0</th>\n",
       "      <th>1</th>\n",
       "      <th>2</th>\n",
       "      <th>3</th>\n",
       "      <th>4</th>\n",
       "      <th>5</th>\n",
       "      <th>6</th>\n",
       "      <th>7</th>\n",
       "      <th>8</th>\n",
       "      <th>9</th>\n",
       "    </tr>\n",
       "  </thead>\n",
       "  <tbody>\n",
       "    <tr>\n",
       "      <th>0</th>\n",
       "      <td>455</td>\n",
       "      <td>13</td>\n",
       "      <td>0</td>\n",
       "      <td>1</td>\n",
       "      <td>0</td>\n",
       "      <td>1</td>\n",
       "      <td>0</td>\n",
       "      <td>3</td>\n",
       "      <td>1</td>\n",
       "      <td>1</td>\n",
       "    </tr>\n",
       "    <tr>\n",
       "      <th>1</th>\n",
       "      <td>4</td>\n",
       "      <td>492</td>\n",
       "      <td>0</td>\n",
       "      <td>1</td>\n",
       "      <td>0</td>\n",
       "      <td>0</td>\n",
       "      <td>0</td>\n",
       "      <td>0</td>\n",
       "      <td>0</td>\n",
       "      <td>2</td>\n",
       "    </tr>\n",
       "    <tr>\n",
       "      <th>2</th>\n",
       "      <td>2</td>\n",
       "      <td>0</td>\n",
       "      <td>502</td>\n",
       "      <td>2</td>\n",
       "      <td>0</td>\n",
       "      <td>0</td>\n",
       "      <td>0</td>\n",
       "      <td>0</td>\n",
       "      <td>0</td>\n",
       "      <td>0</td>\n",
       "    </tr>\n",
       "    <tr>\n",
       "      <th>3</th>\n",
       "      <td>8</td>\n",
       "      <td>0</td>\n",
       "      <td>0</td>\n",
       "      <td>482</td>\n",
       "      <td>2</td>\n",
       "      <td>4</td>\n",
       "      <td>4</td>\n",
       "      <td>9</td>\n",
       "      <td>0</td>\n",
       "      <td>0</td>\n",
       "    </tr>\n",
       "    <tr>\n",
       "      <th>4</th>\n",
       "      <td>1</td>\n",
       "      <td>0</td>\n",
       "      <td>0</td>\n",
       "      <td>3</td>\n",
       "      <td>495</td>\n",
       "      <td>5</td>\n",
       "      <td>0</td>\n",
       "      <td>0</td>\n",
       "      <td>1</td>\n",
       "      <td>5</td>\n",
       "    </tr>\n",
       "    <tr>\n",
       "      <th>5</th>\n",
       "      <td>0</td>\n",
       "      <td>1</td>\n",
       "      <td>0</td>\n",
       "      <td>5</td>\n",
       "      <td>6</td>\n",
       "      <td>505</td>\n",
       "      <td>1</td>\n",
       "      <td>1</td>\n",
       "      <td>0</td>\n",
       "      <td>0</td>\n",
       "    </tr>\n",
       "    <tr>\n",
       "      <th>6</th>\n",
       "      <td>0</td>\n",
       "      <td>0</td>\n",
       "      <td>0</td>\n",
       "      <td>4</td>\n",
       "      <td>0</td>\n",
       "      <td>2</td>\n",
       "      <td>477</td>\n",
       "      <td>17</td>\n",
       "      <td>0</td>\n",
       "      <td>6</td>\n",
       "    </tr>\n",
       "    <tr>\n",
       "      <th>7</th>\n",
       "      <td>2</td>\n",
       "      <td>0</td>\n",
       "      <td>1</td>\n",
       "      <td>12</td>\n",
       "      <td>1</td>\n",
       "      <td>0</td>\n",
       "      <td>23</td>\n",
       "      <td>456</td>\n",
       "      <td>0</td>\n",
       "      <td>2</td>\n",
       "    </tr>\n",
       "    <tr>\n",
       "      <th>8</th>\n",
       "      <td>4</td>\n",
       "      <td>1</td>\n",
       "      <td>0</td>\n",
       "      <td>1</td>\n",
       "      <td>0</td>\n",
       "      <td>0</td>\n",
       "      <td>0</td>\n",
       "      <td>0</td>\n",
       "      <td>459</td>\n",
       "      <td>3</td>\n",
       "    </tr>\n",
       "    <tr>\n",
       "      <th>9</th>\n",
       "      <td>1</td>\n",
       "      <td>0</td>\n",
       "      <td>0</td>\n",
       "      <td>2</td>\n",
       "      <td>7</td>\n",
       "      <td>0</td>\n",
       "      <td>3</td>\n",
       "      <td>2</td>\n",
       "      <td>1</td>\n",
       "      <td>495</td>\n",
       "    </tr>\n",
       "  </tbody>\n",
       "</table>\n",
       "</div>"
      ],
      "text/plain": [
       "     0    1    2    3    4    5    6    7    8    9\n",
       "0  455   13    0    1    0    1    0    3    1    1\n",
       "1    4  492    0    1    0    0    0    0    0    2\n",
       "2    2    0  502    2    0    0    0    0    0    0\n",
       "3    8    0    0  482    2    4    4    9    0    0\n",
       "4    1    0    0    3  495    5    0    0    1    5\n",
       "5    0    1    0    5    6  505    1    1    0    0\n",
       "6    0    0    0    4    0    2  477   17    0    6\n",
       "7    2    0    1   12    1    0   23  456    0    2\n",
       "8    4    1    0    1    0    0    0    0  459    3\n",
       "9    1    0    0    2    7    0    3    2    1  495"
      ]
     },
     "execution_count": 23,
     "metadata": {},
     "output_type": "execute_result"
    }
   ],
   "source": [
    "cf = cf_matrix(X_cv_norm,y_cv,wf,bf)\n",
    "cf"
   ]
  },
  {
   "cell_type": "code",
   "execution_count": 24,
   "id": "3150cb7c",
   "metadata": {},
   "outputs": [
    {
     "data": {
      "text/plain": [
       "0.9636514941626612"
      ]
     },
     "execution_count": 24,
     "metadata": {},
     "output_type": "execute_result"
    }
   ],
   "source": [
    "f1 = f1_score(X_cv_norm,y_cv,wf,bf)\n",
    "f1"
   ]
  },
  {
   "cell_type": "markdown",
   "id": "9de8d07f",
   "metadata": {},
   "source": [
    "# Running on Test Data Set"
   ]
  },
  {
   "cell_type": "code",
   "execution_count": 25,
   "id": "c360d5de",
   "metadata": {},
   "outputs": [
    {
     "data": {
      "text/html": [
       "<div>\n",
       "<style scoped>\n",
       "    .dataframe tbody tr th:only-of-type {\n",
       "        vertical-align: middle;\n",
       "    }\n",
       "\n",
       "    .dataframe tbody tr th {\n",
       "        vertical-align: top;\n",
       "    }\n",
       "\n",
       "    .dataframe thead th {\n",
       "        text-align: right;\n",
       "    }\n",
       "</style>\n",
       "<table border=\"1\" class=\"dataframe\">\n",
       "  <thead>\n",
       "    <tr style=\"text-align: right;\">\n",
       "      <th></th>\n",
       "      <th>Predictions</th>\n",
       "    </tr>\n",
       "  </thead>\n",
       "  <tbody>\n",
       "    <tr>\n",
       "      <th>0</th>\n",
       "      <td>0</td>\n",
       "    </tr>\n",
       "    <tr>\n",
       "      <th>1</th>\n",
       "      <td>4</td>\n",
       "    </tr>\n",
       "    <tr>\n",
       "      <th>2</th>\n",
       "      <td>5</td>\n",
       "    </tr>\n",
       "    <tr>\n",
       "      <th>3</th>\n",
       "      <td>5</td>\n",
       "    </tr>\n",
       "    <tr>\n",
       "      <th>4</th>\n",
       "      <td>6</td>\n",
       "    </tr>\n",
       "    <tr>\n",
       "      <th>...</th>\n",
       "      <td>...</td>\n",
       "    </tr>\n",
       "    <tr>\n",
       "      <th>9995</th>\n",
       "      <td>9</td>\n",
       "    </tr>\n",
       "    <tr>\n",
       "      <th>9996</th>\n",
       "      <td>9</td>\n",
       "    </tr>\n",
       "    <tr>\n",
       "      <th>9997</th>\n",
       "      <td>0</td>\n",
       "    </tr>\n",
       "    <tr>\n",
       "      <th>9998</th>\n",
       "      <td>8</td>\n",
       "    </tr>\n",
       "    <tr>\n",
       "      <th>9999</th>\n",
       "      <td>2</td>\n",
       "    </tr>\n",
       "  </tbody>\n",
       "</table>\n",
       "<p>10000 rows × 1 columns</p>\n",
       "</div>"
      ],
      "text/plain": [
       "      Predictions\n",
       "0               0\n",
       "1               4\n",
       "2               5\n",
       "3               5\n",
       "4               6\n",
       "...           ...\n",
       "9995            9\n",
       "9996            9\n",
       "9997            0\n",
       "9998            8\n",
       "9999            2\n",
       "\n",
       "[10000 rows x 1 columns]"
      ]
     },
     "execution_count": 25,
     "metadata": {},
     "output_type": "execute_result"
    }
   ],
   "source": [
    "df_t = pd.DataFrame(predict(X_test_norm,wf,bf), columns=['Predictions'])\n",
    "\n",
    "df_t"
   ]
  },
  {
   "cell_type": "code",
   "execution_count": 26,
   "id": "da6b225a",
   "metadata": {},
   "outputs": [],
   "source": [
    "df_t.to_csv('Logistic_pred.csv')"
   ]
  },
  {
   "cell_type": "code",
   "execution_count": null,
   "id": "9258fbb8",
   "metadata": {},
   "outputs": [],
   "source": []
  }
 ],
 "metadata": {
  "kernelspec": {
   "display_name": "Python 3 (ipykernel)",
   "language": "python",
   "name": "python3"
  },
  "language_info": {
   "codemirror_mode": {
    "name": "ipython",
    "version": 3
   },
   "file_extension": ".py",
   "mimetype": "text/x-python",
   "name": "python",
   "nbconvert_exporter": "python",
   "pygments_lexer": "ipython3",
   "version": "3.11.5"
  }
 },
 "nbformat": 4,
 "nbformat_minor": 5
}
