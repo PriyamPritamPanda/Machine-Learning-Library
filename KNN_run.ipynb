{
 "cells": [
  {
   "cell_type": "code",
   "execution_count": 1,
   "id": "eee148ca",
   "metadata": {},
   "outputs": [],
   "source": [
    "import numpy as np\n",
    "import pandas as pd"
   ]
  },
  {
   "cell_type": "markdown",
   "id": "fdba0c52",
   "metadata": {},
   "source": [
    "# Defining Functions"
   ]
  },
  {
   "cell_type": "code",
   "execution_count": 2,
   "id": "5a8e4f81",
   "metadata": {},
   "outputs": [],
   "source": [
    "def normalise(X):\n",
    "    max_X = np.max(X)\n",
    "    X_norm = X/max_X\n",
    "    \n",
    "    return X_norm"
   ]
  },
  {
   "cell_type": "code",
   "execution_count": 3,
   "id": "965cdb41",
   "metadata": {},
   "outputs": [],
   "source": [
    "def dist(X_train,x):\n",
    "    dist = np.sqrt(np.sum((X_train - x)**2, axis=1))\n",
    "    return dist"
   ]
  },
  {
   "cell_type": "code",
   "execution_count": 6,
   "id": "b536012c",
   "metadata": {},
   "outputs": [],
   "source": [
    "def majority_count(y):\n",
    "    y_unique = np.unique(y)\n",
    "    c = np.array([])\n",
    "    for i in y_unique:\n",
    "        count = list(y).count(i)\n",
    "        c = np.append(c,count)\n",
    "    most_index = np.argmax(c)\n",
    "    return y_unique[most_index]"
   ]
  },
  {
   "cell_type": "code",
   "execution_count": 69,
   "id": "84ca2009",
   "metadata": {},
   "outputs": [],
   "source": [
    "def knn(X_train,X_test,y_train,k):\n",
    "    m = X_test.shape[0]\n",
    "    pred = []\n",
    "    print('Loading ',end='')\n",
    "    for i in range(m):\n",
    "        d_i = dist(X_train,X_test[i])\n",
    "        d_i_min_indices = np.argsort(d_i)\n",
    "        y_selected = y_train[d_i_min_indices[:k]]\n",
    "        most_repeated = majority_count(y_selected)\n",
    "        pred.append(most_repeated)\n",
    "        if i%np.ceil(m/50)==0:\n",
    "            print('==', end='')\n",
    "    print(' Done!!!')\n",
    "    return pred"
   ]
  },
  {
   "cell_type": "code",
   "execution_count": 53,
   "id": "dc86f8c6",
   "metadata": {},
   "outputs": [],
   "source": [
    "def accuracy(pred,y_test):\n",
    "    subs = pred - y_test\n",
    "    correct = list(subs).count(0)\n",
    "    accuracy = (correct/len(pred))\n",
    "    return accuracy"
   ]
  },
  {
   "cell_type": "markdown",
   "id": "44614211",
   "metadata": {},
   "source": [
    "# Adding Training, Cross-Validation and Test Data Sets"
   ]
  },
  {
   "cell_type": "code",
   "execution_count": 76,
   "id": "f5201a96",
   "metadata": {},
   "outputs": [],
   "source": [
    "df = pd.read_csv('Classification_train.csv')\n",
    "\n",
    "df_test = pd.read_csv('Classification_test.csv')"
   ]
  },
  {
   "cell_type": "code",
   "execution_count": 78,
   "id": "582ff1b5",
   "metadata": {},
   "outputs": [
    {
     "name": "stdout",
     "output_type": "stream",
     "text": [
      "X_train.shape: (25000, 784)\n",
      "y_train.shape: (25000,)\n",
      "X_cv.shape: (5000, 784)\n",
      "y_cv.shape: (5000,)\n",
      "X_test.shape: (10000, 784)\n"
     ]
    }
   ],
   "source": [
    "X = df.drop('label', axis =1)\n",
    "y = df.iloc[:,0]\n",
    "X_train = X.head(25000).to_numpy()\n",
    "X_cv = X.tail(5000).to_numpy()\n",
    "y_train = y.head(25000).to_numpy()\n",
    "y_cv = y.tail(5000).to_numpy()\n",
    "\n",
    "X_test = df_test.iloc[:,1:].to_numpy()\n",
    "\n",
    "print(\"X_train.shape:\", X_train.shape)\n",
    "print(\"y_train.shape:\", y_train.shape)\n",
    "print(\"X_cv.shape:\", X_cv.shape)\n",
    "print(\"y_cv.shape:\", y_cv.shape)\n",
    "print(\"X_test.shape:\", X_test.shape)"
   ]
  },
  {
   "cell_type": "code",
   "execution_count": 79,
   "id": "59d8b215",
   "metadata": {},
   "outputs": [
    {
     "name": "stdout",
     "output_type": "stream",
     "text": [
      "Peak to peak value before normalisation: 255\n",
      "Peak to peak value after normalisation: 1.0\n"
     ]
    }
   ],
   "source": [
    "X_train_norm = normalise(X_train)\n",
    "X_cv_norm = normalise(X_cv)\n",
    "X_test_norm = normalise(X_test)\n",
    "print(f\"Peak to peak value before normalisation: {np.ptp(X_train)}\")\n",
    "print(f\"Peak to peak value after normalisation: {np.ptp(X_train_norm)}\")"
   ]
  },
  {
   "cell_type": "markdown",
   "id": "fa3a5e2c",
   "metadata": {},
   "source": [
    "# Running KNN on Cross-Validation Data Set"
   ]
  },
  {
   "cell_type": "code",
   "execution_count": 70,
   "id": "4fac80e0",
   "metadata": {},
   "outputs": [
    {
     "name": "stdout",
     "output_type": "stream",
     "text": [
      "Loading ==================================================================================================== Done!!!\n"
     ]
    }
   ],
   "source": [
    "pred = knn(X_train_norm,X_cv_norm,y_train,3)"
   ]
  },
  {
   "cell_type": "code",
   "execution_count": 71,
   "id": "7bedb1dd",
   "metadata": {},
   "outputs": [
    {
     "name": "stdout",
     "output_type": "stream",
     "text": [
      "5000\n",
      "(5000,)\n"
     ]
    }
   ],
   "source": [
    "print(len(pred))\n",
    "\n",
    "print(y_cv.shape)"
   ]
  },
  {
   "cell_type": "code",
   "execution_count": 72,
   "id": "1a57aa90",
   "metadata": {},
   "outputs": [
    {
     "name": "stdout",
     "output_type": "stream",
     "text": [
      "Accuracy on cross-validation set: 98.08%\n"
     ]
    }
   ],
   "source": [
    "acc = accuracy(pred,y_cv)\n",
    "\n",
    "print(f\"Accuracy on cross-validation set: {acc*100}%\")"
   ]
  },
  {
   "cell_type": "markdown",
   "id": "332370a2",
   "metadata": {},
   "source": [
    "# Running KNN on Test Data Set"
   ]
  },
  {
   "cell_type": "code",
   "execution_count": 81,
   "id": "d5767e9b",
   "metadata": {},
   "outputs": [
    {
     "name": "stdout",
     "output_type": "stream",
     "text": [
      "Loading ==================================================================================================== Done!!!\n"
     ]
    }
   ],
   "source": [
    "pred_test = knn(X_train_norm, X_test_norm, y_train, 3)"
   ]
  },
  {
   "cell_type": "code",
   "execution_count": 87,
   "id": "22c554ff",
   "metadata": {},
   "outputs": [
    {
     "data": {
      "text/html": [
       "<div>\n",
       "<style scoped>\n",
       "    .dataframe tbody tr th:only-of-type {\n",
       "        vertical-align: middle;\n",
       "    }\n",
       "\n",
       "    .dataframe tbody tr th {\n",
       "        vertical-align: top;\n",
       "    }\n",
       "\n",
       "    .dataframe thead th {\n",
       "        text-align: right;\n",
       "    }\n",
       "</style>\n",
       "<table border=\"1\" class=\"dataframe\">\n",
       "  <thead>\n",
       "    <tr style=\"text-align: right;\">\n",
       "      <th></th>\n",
       "      <th>Predictions</th>\n",
       "    </tr>\n",
       "  </thead>\n",
       "  <tbody>\n",
       "    <tr>\n",
       "      <th>0</th>\n",
       "      <td>0</td>\n",
       "    </tr>\n",
       "    <tr>\n",
       "      <th>1</th>\n",
       "      <td>4</td>\n",
       "    </tr>\n",
       "    <tr>\n",
       "      <th>2</th>\n",
       "      <td>5</td>\n",
       "    </tr>\n",
       "    <tr>\n",
       "      <th>3</th>\n",
       "      <td>5</td>\n",
       "    </tr>\n",
       "    <tr>\n",
       "      <th>4</th>\n",
       "      <td>9</td>\n",
       "    </tr>\n",
       "    <tr>\n",
       "      <th>...</th>\n",
       "      <td>...</td>\n",
       "    </tr>\n",
       "    <tr>\n",
       "      <th>9995</th>\n",
       "      <td>9</td>\n",
       "    </tr>\n",
       "    <tr>\n",
       "      <th>9996</th>\n",
       "      <td>9</td>\n",
       "    </tr>\n",
       "    <tr>\n",
       "      <th>9997</th>\n",
       "      <td>0</td>\n",
       "    </tr>\n",
       "    <tr>\n",
       "      <th>9998</th>\n",
       "      <td>8</td>\n",
       "    </tr>\n",
       "    <tr>\n",
       "      <th>9999</th>\n",
       "      <td>4</td>\n",
       "    </tr>\n",
       "  </tbody>\n",
       "</table>\n",
       "<p>10000 rows × 1 columns</p>\n",
       "</div>"
      ],
      "text/plain": [
       "      Predictions\n",
       "0               0\n",
       "1               4\n",
       "2               5\n",
       "3               5\n",
       "4               9\n",
       "...           ...\n",
       "9995            9\n",
       "9996            9\n",
       "9997            0\n",
       "9998            8\n",
       "9999            4\n",
       "\n",
       "[10000 rows x 1 columns]"
      ]
     },
     "execution_count": 87,
     "metadata": {},
     "output_type": "execute_result"
    }
   ],
   "source": [
    "df_t = pd.DataFrame(pred_test, columns=['Predictions'])\n",
    "df_t"
   ]
  },
  {
   "cell_type": "code",
   "execution_count": 88,
   "id": "8f471e10",
   "metadata": {},
   "outputs": [],
   "source": [
    "df_t.to_csv('KNN_pred.csv')"
   ]
  },
  {
   "cell_type": "code",
   "execution_count": null,
   "id": "47b0bfc9",
   "metadata": {},
   "outputs": [],
   "source": []
  }
 ],
 "metadata": {
  "kernelspec": {
   "display_name": "Python 3 (ipykernel)",
   "language": "python",
   "name": "python3"
  },
  "language_info": {
   "codemirror_mode": {
    "name": "ipython",
    "version": 3
   },
   "file_extension": ".py",
   "mimetype": "text/x-python",
   "name": "python",
   "nbconvert_exporter": "python",
   "pygments_lexer": "ipython3",
   "version": "3.11.5"
  }
 },
 "nbformat": 4,
 "nbformat_minor": 5
}
