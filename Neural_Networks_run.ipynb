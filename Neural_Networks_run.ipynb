{
 "cells": [
  {
   "cell_type": "code",
   "execution_count": 1,
   "id": "2cab7b0f",
   "metadata": {},
   "outputs": [],
   "source": [
    "import numpy as np\n",
    "import pandas as pd\n",
    "import matplotlib \n",
    "%matplotlib inline\n",
    "from matplotlib import pyplot as plt\n",
    "from matplotlib import style "
   ]
  },
  {
   "cell_type": "markdown",
   "id": "275d0ff0",
   "metadata": {},
   "source": [
    "# Defining Functions"
   ]
  },
  {
   "cell_type": "code",
   "execution_count": 2,
   "id": "6381d953",
   "metadata": {},
   "outputs": [],
   "source": [
    "def normalise(X):\n",
    "    max_X = np.max(X)\n",
    "    X_norm = X/max_X\n",
    "    \n",
    "    return X_norm"
   ]
  },
  {
   "cell_type": "code",
   "execution_count": 3,
   "id": "000d978a",
   "metadata": {},
   "outputs": [],
   "source": [
    "def one_hot(Y):\n",
    "    m = Y.shape[0]\n",
    "    n = np.unique(Y).shape[0]\n",
    "    Y_hot = np.zeros((m,n))\n",
    "    for i in range(m):\n",
    "        Y_hot[i][Y[i]] = 1\n",
    "    return Y_hot.T"
   ]
  },
  {
   "cell_type": "code",
   "execution_count": 4,
   "id": "85d81a96",
   "metadata": {},
   "outputs": [],
   "source": [
    "def sigmoid(x):\n",
    "    return 1/(1 + np.exp(-x))\n",
    "\n",
    "def softmax(x):\n",
    "    e_x = np.exp(x)\n",
    "    return e_x/np.sum(e_x, axis=0, keepdims = True)\n",
    "\n",
    "def relu(x):\n",
    "    return np.maximum(0, x)\n",
    "\n",
    "def tanh(x):\n",
    "    return np.tanh(x)\n",
    "\n",
    "def derivative_relu(x):\n",
    "    return np.array(x > 0, dtype='float')\n",
    "\n",
    "def derivative_tanh(x):\n",
    "    return 1-(x**2)"
   ]
  },
  {
   "cell_type": "code",
   "execution_count": 5,
   "id": "cb24fcf3",
   "metadata": {},
   "outputs": [],
   "source": [
    "def initialise_parameters(layer_dims):\n",
    "    L = len(layer_dims) - 1\n",
    "    parameters = {}\n",
    "    for i in range(1,L+1):\n",
    "        #parameters[\"w\"+ str(i)] = np.zeros((layer_dims[i], layer_dims[i-1]))\n",
    "        parameters[\"w\"+ str(i)] = np.random.randn(layer_dims[i], layer_dims[i-1])/np.sqrt(layer_dims[i-1])\n",
    "        parameters[\"b\"+ str(i)] = np.zeros((layer_dims[i], 1))\n",
    "        \n",
    "    return parameters"
   ]
  },
  {
   "cell_type": "code",
   "execution_count": 6,
   "id": "a9679a30",
   "metadata": {},
   "outputs": [],
   "source": [
    "def forward_prop(X, parameters, activation):\n",
    "    L = len(parameters)//2\n",
    "    Al = {}\n",
    "    Al[\"A0\"] = X\n",
    "    for l in range(1,L):\n",
    "        Al[\"Z\"+ str(l)] = parameters['w'+ str(l)].dot(Al['A' + str(l-1)]) + parameters[\"b\"+ str(l)]\n",
    "        if activation == 'relu':\n",
    "            Al[\"A\"+ str(l)] = relu(Al[\"Z\"+ str(l)])\n",
    "        elif activation == 'tanh':\n",
    "            Al[\"A\"+ str(l)] = tanh(Al[\"Z\"+ str(l)])\n",
    "        else:\n",
    "            print(\"THE GIVEN ACTIVATION FUNCTION IS NOT SUPPORTED.\")\n",
    "    \n",
    "    Al[\"Z\"+ str(L)] =  np.dot(parameters[\"w\"+ str(L)], Al[\"A\"+ str(L-1)]) + parameters[\"b\"+ str(L)]\n",
    "    if Al[\"Z\"+ str(L)].shape[0] == 1:\n",
    "        Al[\"A\"+ str(L)] = sigmoid(Al[\"Z\"+ str(L)])\n",
    "    else:\n",
    "        Al[\"A\"+ str(L)] = softmax(Al[\"Z\"+ str(L)])\n",
    "    \n",
    "    return Al[\"A\"+ str(L)], Al"
   ]
  },
  {
   "cell_type": "code",
   "execution_count": 7,
   "id": "a895ae8e",
   "metadata": {},
   "outputs": [],
   "source": [
    "def cost(AL, Y):\n",
    "    m = Y.shape[1]\n",
    "    if Y.shape[0] == 1:\n",
    "        cost = -(1/m)*np.sum((Y*np.log(AL)) + ((1 - Y)*np.log(1 - AL)))\n",
    "    else:\n",
    "        cost = -(1/m)*np.sum(Y*np.log(AL))\n",
    "    \n",
    "    cost = np.squeeze(cost)\n",
    "    return cost"
   ]
  },
  {
   "cell_type": "code",
   "execution_count": 8,
   "id": "371af651",
   "metadata": {},
   "outputs": [],
   "source": [
    "def back_prop(AL, Y, parameters, Al, activation):\n",
    "    L = len(parameters)//2\n",
    "    m = Y.shape[1]\n",
    "    gradients = {}\n",
    "    gradients[\"dZ\"+ str(L)] = AL - Y\n",
    "    gradients[\"dw\"+ str(L)] = (1/m)*np.dot(gradients[\"dZ\"+ str(L)], (Al[\"A\"+ str(L-1)].T))\n",
    "    gradients[\"db\"+ str(L)] = (1/m)*np.sum(gradients[\"dZ\"+ str(L)], axis=1, keepdims=True)\n",
    "    for l in reversed(range(1,L)):\n",
    "        if activation == 'relu':\n",
    "            gradients[\"dZ\"+ str(l)] = np.dot(parameters[\"w\"+ str(l+1)].T, gradients[\"dZ\"+ str(l+1)])*derivative_relu(Al[\"Z\"+ str(l)])\n",
    "        else:\n",
    "            gradients[\"dZ\"+ str(l)] = np.dot(parameters[\"w\"+ str(l+1)].T, gradients[\"dZ\"+ str(l+1)])*derivative_tanh(Al[\"Z\"+ str(l)])\n",
    "        gradients[\"dw\"+ str(l)] = (1/m)*np.dot(gradients[\"dZ\"+ str(l)], (Al[\"A\"+ str(l-1)].T))\n",
    "        gradients[\"db\"+ str(l)] = (1/m)*np.sum(gradients[\"dZ\"+ str(l)], axis=1, keepdims=True)\n",
    "        \n",
    "    return gradients"
   ]
  },
  {
   "cell_type": "code",
   "execution_count": 9,
   "id": "2100da83",
   "metadata": {},
   "outputs": [],
   "source": [
    "def update_parameters(parameters, gradients, alpha):\n",
    "    L = len(parameters)//2\n",
    "    for l in range(1,L+1):\n",
    "        parameters[\"w\"+ str(l)] = parameters[\"w\"+ str(l)] - alpha*gradients[\"dw\"+ str(l)]\n",
    "        parameters[\"b\"+ str(l)] = parameters[\"b\"+ str(l)] - alpha*gradients[\"db\"+ str(l)]\n",
    "        \n",
    "    return parameters"
   ]
  },
  {
   "cell_type": "code",
   "execution_count": 11,
   "id": "416bfa63",
   "metadata": {},
   "outputs": [],
   "source": [
    "def accuracy(X, Y, parameters, activation):\n",
    "    m = Y.shape[1]\n",
    "    pred,_ = forward_prop(X, parameters, activation)\n",
    "    Y = np.argmax(Y, axis = 0)\n",
    "    pred = np.argmax(pred, axis=0)\n",
    "    return np.sum(pred == Y)/m"
   ]
  },
  {
   "cell_type": "code",
   "execution_count": 12,
   "id": "9e593efc",
   "metadata": {},
   "outputs": [],
   "source": [
    "def model(X, Y, X_test, Y_test, layer_dims, alpha, iterations, activation='relu'):\n",
    "    \n",
    "    parameters = initialise_parameters(layer_dims)\n",
    "    J = []\n",
    "    \n",
    "    for i in range(iterations):\n",
    "        \n",
    "        AL, Al = forward_prop(X, parameters, activation)\n",
    "        \n",
    "        Cost = cost(AL, Y)\n",
    "        \n",
    "        gradients = back_prop(AL, Y, parameters, Al, activation)\n",
    "        \n",
    "        parameters = update_parameters(parameters, gradients, alpha)\n",
    "        \n",
    "        J.append(Cost)\n",
    "        \n",
    "        if i%(iterations/10)==0:\n",
    "            print(f\"\\nIter {i:4d} \\t Cost: {Cost}, \\t Train_acc: {accuracy(X,Y,parameters,activation)*100:5.2f}% \\t CV_acc: {accuracy(X_test,Y_test,parameters,activation)*100:5.2f}%\")\n",
    "        \n",
    "        if i%((iterations/10)/50)==0:\n",
    "            print(\"~~\", end='')\n",
    "    \n",
    "    print(f\"\\nFinal Cost: {J[-1]}, \\t Train_acc: {accuracy(X,Y,parameters,activation)*100:5.2f}% \\t CV_acc: {accuracy(X_test,Y_test,parameters,activation)*100:5.2f}%\")\n",
    "    return parameters,J"
   ]
  },
  {
   "cell_type": "code",
   "execution_count": 13,
   "id": "78816df5",
   "metadata": {},
   "outputs": [],
   "source": [
    "def cost_vs_iters(J):\n",
    "    iters = list(range(len(J)))\n",
    "    style.use('ggplot')\n",
    "    plt.plot(iters, J)\n",
    "    plt.xlabel('No. of Iterations')\n",
    "    plt.ylabel('Cost')\n",
    "    plt.title('Cost VS Iterations')\n",
    "    plt.show()"
   ]
  },
  {
   "cell_type": "code",
   "execution_count": 21,
   "id": "cbaaeb00",
   "metadata": {},
   "outputs": [],
   "source": [
    "def predict(X,parameters,activation):\n",
    "    pred,_ = forward_prop(X,parameters,activation)\n",
    "    return np.argmax(pred, axis=0)"
   ]
  },
  {
   "cell_type": "markdown",
   "id": "d2a317f4",
   "metadata": {},
   "source": [
    "# Adding Training, Cross-Validation and Test Data Sets"
   ]
  },
  {
   "cell_type": "code",
   "execution_count": 14,
   "id": "99944047",
   "metadata": {},
   "outputs": [],
   "source": [
    "df = pd.read_csv('Classification_train.csv')\n",
    "\n",
    "df_test = pd.read_csv('Classification_test.csv')"
   ]
  },
  {
   "cell_type": "code",
   "execution_count": 15,
   "id": "92c6a7f2",
   "metadata": {},
   "outputs": [
    {
     "name": "stdout",
     "output_type": "stream",
     "text": [
      "X_train.shape = (784, 25000)\n",
      "Y_train.shape = (25000,)\n",
      "X_cv.shape = (784, 5000)\n",
      "Y_cv.shape = (5000,)\n",
      "X_test.shape = (784, 10000)\n"
     ]
    }
   ],
   "source": [
    "X = df.drop('label', axis=1)\n",
    "Y = df.iloc[:,0]\n",
    "X_train = X.head(25000).to_numpy().T\n",
    "Y_train = Y.head(25000).to_numpy()\n",
    "X_cv = X.tail(5000).to_numpy().T\n",
    "Y_cv = Y.tail(5000).to_numpy()\n",
    "\n",
    "X_test = df_test.iloc[:,1:].to_numpy().T\n",
    "print(\"X_train.shape =\",X_train.shape)\n",
    "print(\"Y_train.shape =\",Y_train.shape)\n",
    "print(\"X_cv.shape =\",X_cv.shape)\n",
    "print(\"Y_cv.shape =\",Y_cv.shape)\n",
    "print(\"X_test.shape =\",X_test.shape)"
   ]
  },
  {
   "cell_type": "code",
   "execution_count": 16,
   "id": "a8891e01",
   "metadata": {},
   "outputs": [
    {
     "name": "stdout",
     "output_type": "stream",
     "text": [
      "Peak to peak value before normalisation: 255\n",
      "Peak to peak value after normalisation: 1.0\n"
     ]
    }
   ],
   "source": [
    "X_train_norm = normalise(X_train)\n",
    "X_cv_norm = normalise(X_cv)\n",
    "X_test_norm = normalise(X_test)\n",
    "Y_hot = one_hot(Y_train)\n",
    "Y_cv_hot = one_hot(Y_cv)\n",
    "\n",
    "print(f\"Peak to peak value before normalisation: {np.ptp(X_train)}\")\n",
    "print(f\"Peak to peak value after normalisation: {np.ptp(X_train_norm)}\")"
   ]
  },
  {
   "cell_type": "markdown",
   "id": "ad4cd234",
   "metadata": {},
   "source": [
    "# Running Neural Network Model"
   ]
  },
  {
   "cell_type": "code",
   "execution_count": 17,
   "id": "9c655fb6",
   "metadata": {},
   "outputs": [
    {
     "name": "stdout",
     "output_type": "stream",
     "text": [
      "\n",
      "Iter    0 \t Cost: 2.3678164210576647, \t Train_acc: 12.42% \t CV_acc: 12.30%\n",
      "~~~~~~~~~~~~~~~~~~~~~~~~~~~~~~~~~~~~~~~~~~~~~~~~~~~~~~~~~~~~~~~~~~~~~~~~~~~~~~~~~~~~~~~~~~~~~~~~~~~~\n",
      "Iter  500 \t Cost: 0.33262433570515787, \t Train_acc: 92.54% \t CV_acc: 92.08%\n",
      "~~~~~~~~~~~~~~~~~~~~~~~~~~~~~~~~~~~~~~~~~~~~~~~~~~~~~~~~~~~~~~~~~~~~~~~~~~~~~~~~~~~~~~~~~~~~~~~~~~~~\n",
      "Iter 1000 \t Cost: 0.21564623444648642, \t Train_acc: 94.64% \t CV_acc: 94.34%\n",
      "~~~~~~~~~~~~~~~~~~~~~~~~~~~~~~~~~~~~~~~~~~~~~~~~~~~~~~~~~~~~~~~~~~~~~~~~~~~~~~~~~~~~~~~~~~~~~~~~~~~~\n",
      "Iter 1500 \t Cost: 0.17761248221002968, \t Train_acc: 95.37% \t CV_acc: 95.12%\n",
      "~~~~~~~~~~~~~~~~~~~~~~~~~~~~~~~~~~~~~~~~~~~~~~~~~~~~~~~~~~~~~~~~~~~~~~~~~~~~~~~~~~~~~~~~~~~~~~~~~~~~\n",
      "Iter 2000 \t Cost: 0.1572012669590661, \t Train_acc: 95.85% \t CV_acc: 95.70%\n",
      "~~~~~~~~~~~~~~~~~~~~~~~~~~~~~~~~~~~~~~~~~~~~~~~~~~~~~~~~~~~~~~~~~~~~~~~~~~~~~~~~~~~~~~~~~~~~~~~~~~~~\n",
      "Iter 2500 \t Cost: 0.14377976573323806, \t Train_acc: 96.23% \t CV_acc: 95.98%\n",
      "~~~~~~~~~~~~~~~~~~~~~~~~~~~~~~~~~~~~~~~~~~~~~~~~~~~~~~~~~~~~~~~~~~~~~~~~~~~~~~~~~~~~~~~~~~~~~~~~~~~~\n",
      "Iter 3000 \t Cost: 0.13395310323758128, \t Train_acc: 96.46% \t CV_acc: 96.14%\n",
      "~~~~~~~~~~~~~~~~~~~~~~~~~~~~~~~~~~~~~~~~~~~~~~~~~~~~~~~~~~~~~~~~~~~~~~~~~~~~~~~~~~~~~~~~~~~~~~~~~~~~\n",
      "Iter 3500 \t Cost: 0.12623178954962352, \t Train_acc: 96.65% \t CV_acc: 96.16%\n",
      "~~~~~~~~~~~~~~~~~~~~~~~~~~~~~~~~~~~~~~~~~~~~~~~~~~~~~~~~~~~~~~~~~~~~~~~~~~~~~~~~~~~~~~~~~~~~~~~~~~~~\n",
      "Iter 4000 \t Cost: 0.11991170794650509, \t Train_acc: 96.73% \t CV_acc: 96.30%\n",
      "~~~~~~~~~~~~~~~~~~~~~~~~~~~~~~~~~~~~~~~~~~~~~~~~~~~~~~~~~~~~~~~~~~~~~~~~~~~~~~~~~~~~~~~~~~~~~~~~~~~~\n",
      "Iter 4500 \t Cost: 0.11457230329655554, \t Train_acc: 96.85% \t CV_acc: 96.34%\n",
      "~~~~~~~~~~~~~~~~~~~~~~~~~~~~~~~~~~~~~~~~~~~~~~~~~~~~~~~~~~~~~~~~~~~~~~~~~~~~~~~~~~~~~~~~~~~~~~~~~~~~\n",
      "Final Cost: 0.1099532796763067, \t Train_acc: 96.96% \t CV_acc: 96.36%\n"
     ]
    }
   ],
   "source": [
    "alpha = 0.03\n",
    "iterations = 5000\n",
    "activation='relu'\n",
    "final_parameters, J = model(X_train_norm, Y_hot, X_cv_norm, Y_cv_hot, [X_train.shape[0],16,10], alpha = alpha, iterations=iterations, activation=activation)"
   ]
  },
  {
   "cell_type": "code",
   "execution_count": 18,
   "id": "b60faf5e",
   "metadata": {},
   "outputs": [
    {
     "data": {
      "image/png": "[encoded data removed]",
      "text/plain": [
       "<Figure size 640x480 with 1 Axes>"
      ]
     },
     "metadata": {},
     "output_type": "display_data"
    }
   ],
   "source": [
    "cost_vs_iters(J)"
   ]
  },
  {
   "cell_type": "markdown",
   "id": "75b8e34e",
   "metadata": {},
   "source": [
    "# Predicting on the Test Data Set using the final parameters "
   ]
  },
  {
   "cell_type": "code",
   "execution_count": 25,
   "id": "c8d59335",
   "metadata": {},
   "outputs": [
    {
     "data": {
      "text/html": [
       "<div>\n",
       "<style scoped>\n",
       "    .dataframe tbody tr th:only-of-type {\n",
       "        vertical-align: middle;\n",
       "    }\n",
       "\n",
       "    .dataframe tbody tr th {\n",
       "        vertical-align: top;\n",
       "    }\n",
       "\n",
       "    .dataframe thead th {\n",
       "        text-align: right;\n",
       "    }\n",
       "</style>\n",
       "<table border=\"1\" class=\"dataframe\">\n",
       "  <thead>\n",
       "    <tr style=\"text-align: right;\">\n",
       "      <th></th>\n",
       "      <th>Predictions</th>\n",
       "    </tr>\n",
       "  </thead>\n",
       "  <tbody>\n",
       "    <tr>\n",
       "      <th>0</th>\n",
       "      <td>0</td>\n",
       "    </tr>\n",
       "    <tr>\n",
       "      <th>1</th>\n",
       "      <td>4</td>\n",
       "    </tr>\n",
       "    <tr>\n",
       "      <th>2</th>\n",
       "      <td>5</td>\n",
       "    </tr>\n",
       "    <tr>\n",
       "      <th>3</th>\n",
       "      <td>5</td>\n",
       "    </tr>\n",
       "    <tr>\n",
       "      <th>4</th>\n",
       "      <td>6</td>\n",
       "    </tr>\n",
       "    <tr>\n",
       "      <th>...</th>\n",
       "      <td>...</td>\n",
       "    </tr>\n",
       "    <tr>\n",
       "      <th>9995</th>\n",
       "      <td>9</td>\n",
       "    </tr>\n",
       "    <tr>\n",
       "      <th>9996</th>\n",
       "      <td>9</td>\n",
       "    </tr>\n",
       "    <tr>\n",
       "      <th>9997</th>\n",
       "      <td>0</td>\n",
       "    </tr>\n",
       "    <tr>\n",
       "      <th>9998</th>\n",
       "      <td>8</td>\n",
       "    </tr>\n",
       "    <tr>\n",
       "      <th>9999</th>\n",
       "      <td>2</td>\n",
       "    </tr>\n",
       "  </tbody>\n",
       "</table>\n",
       "<p>10000 rows × 1 columns</p>\n",
       "</div>"
      ],
      "text/plain": [
       "      Predictions\n",
       "0               0\n",
       "1               4\n",
       "2               5\n",
       "3               5\n",
       "4               6\n",
       "...           ...\n",
       "9995            9\n",
       "9996            9\n",
       "9997            0\n",
       "9998            8\n",
       "9999            2\n",
       "\n",
       "[10000 rows x 1 columns]"
      ]
     },
     "execution_count": 25,
     "metadata": {},
     "output_type": "execute_result"
    }
   ],
   "source": [
    "pred_test = predict(X_test_norm, final_parameters, activation)\n",
    "df_t = pd.DataFrame(pred_test, columns = ['Predictions'])\n",
    "df_t"
   ]
  },
  {
   "cell_type": "code",
   "execution_count": 26,
   "id": "88efb789",
   "metadata": {},
   "outputs": [],
   "source": [
    "df_t.to_csv('Neural_pred.csv')"
   ]
  },
  {
   "cell_type": "code",
   "execution_count": null,
   "id": "09985abd",
   "metadata": {},
   "outputs": [],
   "source": []
  }
 ],
 "metadata": {
  "kernelspec": {
   "display_name": "Python 3 (ipykernel)",
   "language": "python",
   "name": "python3"
  },
  "language_info": {
   "codemirror_mode": {
    "name": "ipython",
    "version": 3
   },
   "file_extension": ".py",
   "mimetype": "text/x-python",
   "name": "python",
   "nbconvert_exporter": "python",
   "pygments_lexer": "ipython3",
   "version": "3.11.5"
  }
 },
 "nbformat": 4,
 "nbformat_minor": 5
}
